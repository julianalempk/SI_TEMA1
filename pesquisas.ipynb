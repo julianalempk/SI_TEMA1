{
  "nbformat": 4,
  "nbformat_minor": 0,
  "metadata": {
    "colab": {
      "provenance": [],
      "authorship_tag": "ABX9TyOQT2dcfsoLP8s8vUv/+uck",
      "include_colab_link": true
    },
    "kernelspec": {
      "name": "python3",
      "display_name": "Python 3"
    },
    "language_info": {
      "name": "python"
    }
  },
  "cells": [
    {
      "cell_type": "markdown",
      "metadata": {
        "id": "view-in-github",
        "colab_type": "text"
      },
      "source": [
        "<a href=\"https://colab.research.google.com/github/julianalempk/SI_TEMA1/blob/main/pesquisas.ipynb\" target=\"_parent\"><img src=\"https://colab.research.google.com/assets/colab-badge.svg\" alt=\"Open In Colab\"/></a>"
      ]
    },
    {
      "cell_type": "code",
      "execution_count": null,
      "metadata": {
        "colab": {
          "base_uri": "https://localhost:8080/"
        },
        "id": "fe5_vvVZ7fU2",
        "outputId": "8e50bb89-207b-49a7-e664-a0ef87cbda02"
      },
      "outputs": [
        {
          "output_type": "stream",
          "name": "stdout",
          "text": [
            "Tópicos correlatos e sinônimos para o termo de pesquisa 'Inteligencia Artificial':\n",
            "1. https://es.wikipedia.org/wiki/Inteligencia_artificial\n",
            "2. https://es.wikipedia.org/wiki/Inteligencia_artificial_d%C3%A9bil\n",
            "3. https://es.wikipedia.org/wiki/Historia_de_la_inteligencia_artificial\n",
            "4. https://es.wikipedia.org/wiki/Red_neuronal_artificial\n",
            "5. https://es.wikipedia.org/wiki/A._I._inteligencia_artificial\n",
            "6. https://www.nibib.nih.gov/espanol/temas-cientificos/inteligencia-artificial-ia\n"
          ]
        }
      ],
      "source": [
        "# Instala a biblioteca googlesearch-python\n",
        "#!pip install google\n",
        "\n",
        "# Importa a classe search da biblioteca googlesearch\n",
        "from googlesearch import search\n",
        "\n",
        "# Termo de pesquisa\n",
        "termo_pesquisa = \"Inteligencia Artificial\"\n",
        "\n",
        "# Realiza a pesquisa no Google e armazena os resultados\n",
        "resultados = search(termo_pesquisa, num=6, stop=6, pause=2)\n",
        "\n",
        "# Exibe os tópicos correlatos e sinônimos encontrados nos resultados da pesquisa\n",
        "print(\"Tópicos correlatos e sinônimos para o termo de pesquisa '\" + termo_pesquisa + \"':\")\n",
        "for idx, resultado in enumerate(resultados):\n",
        "    print(f\"{idx + 1}. {resultado}\")"
      ]
    }
  ]
}